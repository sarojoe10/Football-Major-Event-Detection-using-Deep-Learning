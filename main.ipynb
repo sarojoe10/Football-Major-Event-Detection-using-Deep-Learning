{
 "cells": [
  {
   "cell_type": "code",
   "execution_count": 1,
   "metadata": {},
   "outputs": [
    {
     "name": "stderr",
     "output_type": "stream",
     "text": [
      "2024-01-08 15:41:12.840697: I tensorflow/core/util/port.cc:113] oneDNN custom operations are on. You may see slightly different numerical results due to floating-point round-off errors from different computation orders. To turn them off, set the environment variable `TF_ENABLE_ONEDNN_OPTS=0`.\n",
      "2024-01-08 15:41:13.027122: E external/local_xla/xla/stream_executor/cuda/cuda_dnn.cc:9261] Unable to register cuDNN factory: Attempting to register factory for plugin cuDNN when one has already been registered\n",
      "2024-01-08 15:41:13.027197: E external/local_xla/xla/stream_executor/cuda/cuda_fft.cc:607] Unable to register cuFFT factory: Attempting to register factory for plugin cuFFT when one has already been registered\n",
      "2024-01-08 15:41:13.050064: E external/local_xla/xla/stream_executor/cuda/cuda_blas.cc:1515] Unable to register cuBLAS factory: Attempting to register factory for plugin cuBLAS when one has already been registered\n",
      "2024-01-08 15:41:13.108398: I tensorflow/core/platform/cpu_feature_guard.cc:182] This TensorFlow binary is optimized to use available CPU instructions in performance-critical operations.\n",
      "To enable the following instructions: AVX2 AVX512F AVX512_VNNI FMA, in other operations, rebuild TensorFlow with the appropriate compiler flags.\n",
      "2024-01-08 15:41:14.135703: W tensorflow/compiler/tf2tensorrt/utils/py_utils.cc:38] TF-TRT Warning: Could not find TensorRT\n"
     ]
    }
   ],
   "source": [
    "from keras.models import Sequential\n",
    "from keras.layers import Conv2D, MaxPooling2D, Dense, Flatten, Dropout\n",
    "from keras.losses import categorical_crossentropy\n",
    "\n",
    "def VGG19(input_shape, class_num):\n",
    "    \n",
    "    model = Sequential()\n",
    "\n",
    "    #Convolution Layers\n",
    "    model.add(Conv2D(64, kernel_size=(3,3), padding= 'same',\n",
    "                        activation= 'relu', input_shape= input_shape))\n",
    "    model.add(Conv2D(64, kernel_size=(3,3), padding= 'same',\n",
    "                    activation= 'relu'))\n",
    "    \n",
    "    #Pooling Layer\n",
    "    model.add(MaxPooling2D(pool_size=(2,2), strides= (2,2)))\n",
    "\n",
    "\n",
    "    #Convolution Layers\n",
    "    model.add(Conv2D(128, kernel_size=(3,3), padding= 'same',\n",
    "                    activation= 'relu'))\n",
    "    model.add(Conv2D(128, kernel_size=(3,3), padding= 'same',\n",
    "                    activation= 'relu'))\n",
    "    \n",
    "    #Pooling Layer\n",
    "    model.add(MaxPooling2D(pool_size=(2,2), strides= (2,2)))\n",
    "\n",
    "    #Convolution Layers\n",
    "    model.add(Conv2D(256, kernel_size=(3,3), padding= 'same',\n",
    "                    activation= 'relu'))\n",
    "    model.add(Conv2D(256, kernel_size=(3,3), padding= 'same',\n",
    "                    activation= 'relu'))\n",
    "    model.add(Conv2D(256, kernel_size=(3,3), padding= 'same',\n",
    "                    activation= 'relu'))\n",
    "    model.add(Conv2D(256, kernel_size=(3,3), padding= 'same',\n",
    "                    activation= 'relu'))\n",
    "    \n",
    "    #Pooling Layer\n",
    "    model.add(MaxPooling2D(pool_size=(2,2), strides= (2,2)))\n",
    "\n",
    "    #Convolution Layers\n",
    "    model.add(Conv2D(512, kernel_size=(3,3), padding= 'same',\n",
    "                    activation= 'relu'))\n",
    "    model.add(Conv2D(512, kernel_size=(3,3), padding= 'same',\n",
    "                        activation= 'relu'))\n",
    "    model.add(Conv2D(512, kernel_size=(3,3), padding= 'same',\n",
    "                    activation= 'relu'))\n",
    "    model.add(Conv2D(512, kernel_size=(3,3), padding= 'same',\n",
    "                    activation= 'relu'))\n",
    "    \n",
    "    #Pooling Layer\n",
    "    model.add(MaxPooling2D(pool_size=(2,2), strides= (2,2)))\n",
    "\n",
    "    #Convolution Layers\n",
    "    model.add(Conv2D(512, kernel_size=(3,3), padding= 'same',\n",
    "                    activation= 'relu'))\n",
    "    model.add(Conv2D(512, kernel_size=(3,3), padding= 'same',\n",
    "                    activation= 'relu'))\n",
    "    model.add(Conv2D(512, kernel_size=(3,3), padding= 'same',\n",
    "                    activation= 'relu'))\n",
    "    model.add(Conv2D(512, kernel_size=(3,3), padding= 'same',\n",
    "                    activation= 'relu'))\n",
    "    \n",
    "    #Pooling Layer\n",
    "    model.add(MaxPooling2D(pool_size=(2,2), strides= (2,2)))\n",
    "\n",
    "    #Fully Connected Layers\n",
    "    model.add(Flatten())\n",
    "    model.add(Dense(4096, activation= 'relu'))\n",
    "    model.add(Dropout(0.5))\n",
    "    model.add(Dense(4096, activation= 'relu'))\n",
    "    model.add(Dropout(0.5))\n",
    "    model.add(Dense(class_num, activation= 'softmax'))"
   ]
  },
  {
   "cell_type": "code",
   "execution_count": 3,
   "metadata": {},
   "outputs": [],
   "source": [
    "import os\n",
    "import cv2\n",
    "import random\n",
    "\n",
    "training = []\n",
    "Categories = ['Goals', 'Cards', 'Substitution']\n",
    "path_test = '/home/sarojoe_rar/Desktop/Datasets'\n",
    "img_size = 224\n",
    "\n",
    "def createTrainingData(Categories, img_size, path_test):\n",
    "    for category in Categories:\n",
    "        path = os.path.join(path_test, category)\n",
    "        class_num = Categories.index(category)\n",
    "        for img in os.listdir(path):\n",
    "            img_array = cv2.imread(os.path.join(path, img))\n",
    "            new_array = cv2.resize(img_array, (img_size, img_size))\n",
    "            training.append([new_array, class_num])\n",
    "\n",
    "createTrainingData(Categories, img_size, path_test)\n",
    "random.shuffle(training)"
   ]
  },
  {
   "cell_type": "code",
   "execution_count": 5,
   "metadata": {},
   "outputs": [
    {
     "data": {
      "text/plain": [
       "1275"
      ]
     },
     "execution_count": 5,
     "metadata": {},
     "output_type": "execute_result"
    }
   ],
   "source": [
    "len(training)"
   ]
  },
  {
   "cell_type": "code",
   "execution_count": 6,
   "metadata": {},
   "outputs": [],
   "source": [
    "import numpy as np\n",
    "\n",
    "classes_num = 3\n",
    "X=[]\n",
    "y=[]\n",
    "\n",
    "for features, label in training:\n",
    "    X.append(features)\n",
    "    y.append(label)\n",
    "\n",
    "X = np.array(X).reshape(-1, img_size, img_size, 3)\n",
    "\n",
    "X = X.astype('float32')\n",
    "X /= 255\n",
    "\n",
    "from keras.utils import to_categorical\n",
    "\n",
    "y = to_categorical(y, classes_num)"
   ]
  },
  {
   "cell_type": "code",
   "execution_count": 7,
   "metadata": {},
   "outputs": [
    {
     "data": {
      "text/plain": [
       "(1275, 3)"
      ]
     },
     "execution_count": 7,
     "metadata": {},
     "output_type": "execute_result"
    }
   ],
   "source": [
    "y.shape"
   ]
  },
  {
   "cell_type": "code",
   "execution_count": 8,
   "metadata": {},
   "outputs": [
    {
     "data": {
      "text/plain": [
       "(1275, 224, 224, 3)"
      ]
     },
     "execution_count": 8,
     "metadata": {},
     "output_type": "execute_result"
    }
   ],
   "source": [
    "X.shape"
   ]
  },
  {
   "cell_type": "code",
   "execution_count": 9,
   "metadata": {},
   "outputs": [],
   "source": [
    "from sklearn.model_selection import train_test_split\n",
    "\n",
    "X_train, X_test, y_train, y_test = train_test_split(X, y, test_size = 0.2, random_state = 4)"
   ]
  },
  {
   "cell_type": "code",
   "execution_count": 10,
   "metadata": {},
   "outputs": [
    {
     "data": {
      "text/plain": [
       "(1020, 224, 224, 3)"
      ]
     },
     "execution_count": 10,
     "metadata": {},
     "output_type": "execute_result"
    }
   ],
   "source": [
    "X_train.shape"
   ]
  },
  {
   "cell_type": "code",
   "execution_count": 11,
   "metadata": {},
   "outputs": [
    {
     "data": {
      "text/plain": [
       "(255, 224, 224, 3)"
      ]
     },
     "execution_count": 11,
     "metadata": {},
     "output_type": "execute_result"
    }
   ],
   "source": [
    "X_test.shape"
   ]
  },
  {
   "cell_type": "code",
   "execution_count": 12,
   "metadata": {},
   "outputs": [
    {
     "data": {
      "text/plain": [
       "(1020, 3)"
      ]
     },
     "execution_count": 12,
     "metadata": {},
     "output_type": "execute_result"
    }
   ],
   "source": [
    "y_train.shape"
   ]
  },
  {
   "cell_type": "code",
   "execution_count": 13,
   "metadata": {},
   "outputs": [
    {
     "data": {
      "text/plain": [
       "(255, 3)"
      ]
     },
     "execution_count": 13,
     "metadata": {},
     "output_type": "execute_result"
    }
   ],
   "source": [
    "y_test.shape"
   ]
  },
  {
   "cell_type": "code",
   "execution_count": 14,
   "metadata": {},
   "outputs": [
    {
     "name": "stderr",
     "output_type": "stream",
     "text": [
      "2024-01-08 15:54:26.966529: I external/local_xla/xla/stream_executor/cuda/cuda_executor.cc:901] successful NUMA node read from SysFS had negative value (-1), but there must be at least one NUMA node, so returning NUMA node zero. See more at https://github.com/torvalds/linux/blob/v6.0/Documentation/ABI/testing/sysfs-bus-pci#L344-L355\n",
      "2024-01-08 15:54:27.131217: W tensorflow/core/common_runtime/gpu/gpu_device.cc:2256] Cannot dlopen some GPU libraries. Please make sure the missing libraries mentioned above are installed properly if you would like to use GPU. Follow the guide at https://www.tensorflow.org/install/gpu for how to download and setup the required libraries for your platform.\n",
      "Skipping registering GPU devices...\n"
     ]
    }
   ],
   "source": [
    "model = VGG19((224,224,3), 3)"
   ]
  },
  {
   "cell_type": "code",
   "execution_count": null,
   "metadata": {},
   "outputs": [],
   "source": []
  }
 ],
 "metadata": {
  "kernelspec": {
   "display_name": "Python 3",
   "language": "python",
   "name": "python3"
  },
  "language_info": {
   "codemirror_mode": {
    "name": "ipython",
    "version": 3
   },
   "file_extension": ".py",
   "mimetype": "text/x-python",
   "name": "python",
   "nbconvert_exporter": "python",
   "pygments_lexer": "ipython3",
   "version": "3.10.12"
  }
 },
 "nbformat": 4,
 "nbformat_minor": 2
}
