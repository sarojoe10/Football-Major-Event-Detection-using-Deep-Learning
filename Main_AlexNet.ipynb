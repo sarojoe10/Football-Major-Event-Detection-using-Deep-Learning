{
  "cells": [
    {
      "cell_type": "code",
      "execution_count": null,
      "metadata": {
        "id": "lmM2WSdcjcDS"
      },
      "outputs": [],
      "source": [
        "from keras.models import Sequential\n",
        "from keras.layers import Conv2D, MaxPooling2D, Dense, Flatten, Dropout\n",
        "from keras.losses import categorical_crossentropy\n",
        "\n",
        "def AlexNet(input_shape, class_num):\n",
        "\n",
        "    model = Sequential()\n",
        "\n",
        "    model.add(Conv2D(96, kernel_size=(11,11), strides= 4,\n",
        "                        padding= 'valid', activation= 'relu',\n",
        "                        input_shape= input_shape,\n",
        "                        kernel_initializer= 'he_normal'))\n",
        "    model.add(MaxPooling2D(pool_size=(3,3), strides= (2,2),\n",
        "                            padding= 'valid', data_format= None))\n",
        "\n",
        "    model.add(Conv2D(256, kernel_size=(5,5), strides= 1,\n",
        "                    padding= 'same', activation= 'relu',\n",
        "                    kernel_initializer= 'he_normal'))\n",
        "    model.add(MaxPooling2D(pool_size=(3,3), strides= (2,2),\n",
        "                            padding= 'valid', data_format= None))\n",
        "\n",
        "    model.add(Conv2D(384, kernel_size=(3,3), strides= 1,\n",
        "                    padding= 'same', activation= 'relu',\n",
        "                    kernel_initializer= 'he_normal'))\n",
        "\n",
        "    model.add(Conv2D(384, kernel_size=(3,3), strides= 1,\n",
        "                    padding= 'same', activation= 'relu',\n",
        "                    kernel_initializer= 'he_normal'))\n",
        "\n",
        "    model.add(Conv2D(256, kernel_size=(3,3), strides= 1,\n",
        "                    padding= 'same', activation= 'relu',\n",
        "                    kernel_initializer= 'he_normal'))\n",
        "\n",
        "    model.add(MaxPooling2D(pool_size=(3,3), strides= (2,2),\n",
        "                            padding= 'valid', data_format= None))\n",
        "\n",
        "    model.add(Flatten())\n",
        "    model.add(Dense(4096, activation= 'relu'))\n",
        "    model.add(Dense(4096, activation= 'relu'))\n",
        "    model.add(Dense(1000, activation= 'relu'))\n",
        "    model.add(Dense(class_num, activation= 'softmax'))\n",
        "\n",
        "    return model\n"
      ]
    },
    {
      "cell_type": "code",
      "source": [
        "from google.colab import drive\n",
        "drive.mount('/content/drive')"
      ],
      "metadata": {
        "colab": {
          "base_uri": "https://localhost:8080/"
        },
        "id": "EC_L1k6Ysfv8",
        "outputId": "d928eb96-0b3a-4b66-d7aa-c18efe6a3852"
      },
      "execution_count": null,
      "outputs": [
        {
          "output_type": "stream",
          "name": "stdout",
          "text": [
            "Mounted at /content/drive\n"
          ]
        }
      ]
    },
    {
      "cell_type": "code",
      "execution_count": null,
      "metadata": {
        "id": "uR5Rxj25jcDU"
      },
      "outputs": [],
      "source": [
        "import os\n",
        "import cv2\n",
        "import random\n",
        "\n",
        "training = []\n",
        "Categories = ['Goals', 'Cards', 'Substitution']\n",
        "path_test = '/content/drive/MyDrive/Football Major Event Detection/Datasets'\n",
        "img_size = 227\n",
        "\n",
        "def createTrainingData(Categories, img_size, path_test):\n",
        "    for category in Categories:\n",
        "        path = os.path.join(path_test, category)\n",
        "        class_num = Categories.index(category)\n",
        "        for img in os.listdir(path):\n",
        "            img_array = cv2.imread(os.path.join(path, img))\n",
        "            new_array = cv2.resize(img_array, (img_size, img_size))\n",
        "            training.append([new_array, class_num])\n",
        "\n",
        "createTrainingData(Categories, img_size, path_test)\n",
        "random.shuffle(training)"
      ]
    },
    {
      "cell_type": "code",
      "execution_count": null,
      "metadata": {
        "id": "3SdNBVIsjcDU",
        "colab": {
          "base_uri": "https://localhost:8080/"
        },
        "outputId": "a346a728-85ed-4805-bff5-91894f47f90b"
      },
      "outputs": [
        {
          "output_type": "execute_result",
          "data": {
            "text/plain": [
              "1544"
            ]
          },
          "metadata": {},
          "execution_count": 4
        }
      ],
      "source": [
        "len(training)"
      ]
    },
    {
      "cell_type": "code",
      "execution_count": null,
      "metadata": {
        "id": "Hwd9IFlhjcDV"
      },
      "outputs": [],
      "source": [
        "import numpy as np\n",
        "\n",
        "classes_num = 3\n",
        "X=[]\n",
        "y=[]\n",
        "\n",
        "for features, label in training:\n",
        "    X.append(features)\n",
        "    y.append(label)\n",
        "\n",
        "X = np.array(X).reshape(-1, img_size, img_size, 3)\n",
        "\n",
        "X = X.astype('float32')\n",
        "X /= 255\n",
        "\n",
        "from keras.utils import to_categorical\n",
        "\n",
        "y = to_categorical(y, classes_num)"
      ]
    },
    {
      "cell_type": "code",
      "execution_count": null,
      "metadata": {
        "id": "WQyMVzL9jcDV",
        "outputId": "9fb42fbf-fc74-4fb7-dc5b-575917f8cc81",
        "colab": {
          "base_uri": "https://localhost:8080/"
        }
      },
      "outputs": [
        {
          "output_type": "execute_result",
          "data": {
            "text/plain": [
              "(1544, 3)"
            ]
          },
          "metadata": {},
          "execution_count": 6
        }
      ],
      "source": [
        "y.shape"
      ]
    },
    {
      "cell_type": "code",
      "execution_count": null,
      "metadata": {
        "id": "lzzXdvBOjcDV",
        "outputId": "9430abec-0ac7-419c-b5b5-3522e44a6acd",
        "colab": {
          "base_uri": "https://localhost:8080/"
        }
      },
      "outputs": [
        {
          "output_type": "execute_result",
          "data": {
            "text/plain": [
              "(1544, 227, 227, 3)"
            ]
          },
          "metadata": {},
          "execution_count": 7
        }
      ],
      "source": [
        "X.shape"
      ]
    },
    {
      "cell_type": "code",
      "execution_count": null,
      "metadata": {
        "id": "nRwzAohajcDV"
      },
      "outputs": [],
      "source": [
        "from sklearn.model_selection import train_test_split\n",
        "\n",
        "X_train, X_test, y_train, y_test = train_test_split(X, y, test_size = 0.2, random_state = 4)"
      ]
    },
    {
      "cell_type": "code",
      "execution_count": null,
      "metadata": {
        "id": "yuauxknrjcDV",
        "outputId": "76eec2ca-7f22-43a2-97af-7c963949badc",
        "colab": {
          "base_uri": "https://localhost:8080/"
        }
      },
      "outputs": [
        {
          "output_type": "execute_result",
          "data": {
            "text/plain": [
              "(1235, 227, 227, 3)"
            ]
          },
          "metadata": {},
          "execution_count": 9
        }
      ],
      "source": [
        "X_train.shape"
      ]
    },
    {
      "cell_type": "code",
      "execution_count": null,
      "metadata": {
        "id": "a1NHcu79jcDW",
        "outputId": "42112d6a-609d-4cf7-afd8-28d9fb09da2a",
        "colab": {
          "base_uri": "https://localhost:8080/"
        }
      },
      "outputs": [
        {
          "output_type": "execute_result",
          "data": {
            "text/plain": [
              "(309, 227, 227, 3)"
            ]
          },
          "metadata": {},
          "execution_count": 10
        }
      ],
      "source": [
        "X_test.shape"
      ]
    },
    {
      "cell_type": "code",
      "execution_count": null,
      "metadata": {
        "id": "4PA4zVTFjcDW",
        "outputId": "201589cb-d232-4db9-ddfe-f9cb496bd55c",
        "colab": {
          "base_uri": "https://localhost:8080/"
        }
      },
      "outputs": [
        {
          "output_type": "execute_result",
          "data": {
            "text/plain": [
              "(1235, 3)"
            ]
          },
          "metadata": {},
          "execution_count": 11
        }
      ],
      "source": [
        "y_train.shape"
      ]
    },
    {
      "cell_type": "code",
      "execution_count": null,
      "metadata": {
        "id": "cxsn9QTejcDW",
        "outputId": "7b5a15c6-22d9-4e17-936b-61ca372d3140",
        "colab": {
          "base_uri": "https://localhost:8080/"
        }
      },
      "outputs": [
        {
          "output_type": "execute_result",
          "data": {
            "text/plain": [
              "(309, 3)"
            ]
          },
          "metadata": {},
          "execution_count": 12
        }
      ],
      "source": [
        "y_test.shape"
      ]
    },
    {
      "cell_type": "code",
      "source": [
        "x_val = X_train[:310]\n",
        "x_train = X_train[310:]\n",
        "\n",
        "y_val = y_train[:310]\n",
        "y_train = y_train[310:]"
      ],
      "metadata": {
        "id": "bmJheiu0_5-L"
      },
      "execution_count": null,
      "outputs": []
    },
    {
      "cell_type": "code",
      "execution_count": null,
      "metadata": {
        "id": "zK_Fijc6jcDW"
      },
      "outputs": [],
      "source": [
        "model = AlexNet((227,227,3), 3)"
      ]
    },
    {
      "cell_type": "code",
      "execution_count": null,
      "metadata": {
        "id": "d5sch0-QjcDW",
        "colab": {
          "base_uri": "https://localhost:8080/"
        },
        "outputId": "bb458bcb-27f0-41ef-c299-f0758d81f5d7"
      },
      "outputs": [
        {
          "output_type": "stream",
          "name": "stdout",
          "text": [
            "Model: \"sequential\"\n",
            "_________________________________________________________________\n",
            " Layer (type)                Output Shape              Param #   \n",
            "=================================================================\n",
            " conv2d (Conv2D)             (None, 55, 55, 96)        34944     \n",
            "                                                                 \n",
            " max_pooling2d (MaxPooling2  (None, 27, 27, 96)        0         \n",
            " D)                                                              \n",
            "                                                                 \n",
            " conv2d_1 (Conv2D)           (None, 27, 27, 256)       614656    \n",
            "                                                                 \n",
            " max_pooling2d_1 (MaxPoolin  (None, 13, 13, 256)       0         \n",
            " g2D)                                                            \n",
            "                                                                 \n",
            " conv2d_2 (Conv2D)           (None, 13, 13, 384)       885120    \n",
            "                                                                 \n",
            " conv2d_3 (Conv2D)           (None, 13, 13, 384)       1327488   \n",
            "                                                                 \n",
            " conv2d_4 (Conv2D)           (None, 13, 13, 256)       884992    \n",
            "                                                                 \n",
            " max_pooling2d_2 (MaxPoolin  (None, 6, 6, 256)         0         \n",
            " g2D)                                                            \n",
            "                                                                 \n",
            " flatten (Flatten)           (None, 9216)              0         \n",
            "                                                                 \n",
            " dense (Dense)               (None, 4096)              37752832  \n",
            "                                                                 \n",
            " dense_1 (Dense)             (None, 4096)              16781312  \n",
            "                                                                 \n",
            " dense_2 (Dense)             (None, 1000)              4097000   \n",
            "                                                                 \n",
            " dense_3 (Dense)             (None, 3)                 3003      \n",
            "                                                                 \n",
            "=================================================================\n",
            "Total params: 62381347 (237.97 MB)\n",
            "Trainable params: 62381347 (237.97 MB)\n",
            "Non-trainable params: 0 (0.00 Byte)\n",
            "_________________________________________________________________\n"
          ]
        }
      ],
      "source": [
        "from keras import optimizers, losses, metrics\n",
        "\n",
        "model.compile(optimizer=optimizers.Adam(learning_rate=0.0001), loss=losses.categorical_crossentropy,\n",
        "              metrics=[metrics.categorical_crossentropy, metrics.categorical_accuracy])\n",
        "model.summary()"
      ]
    },
    {
      "cell_type": "code",
      "source": [
        "trained_model = model.fit(x_train,y_train, epochs=20, batch_size=100,validation_data=(x_val, y_val))"
      ],
      "metadata": {
        "colab": {
          "base_uri": "https://localhost:8080/"
        },
        "id": "6Ai4l6pfrjSr",
        "outputId": "a95a24cf-3c3d-417f-c4e1-5f41e58b0da3"
      },
      "execution_count": null,
      "outputs": [
        {
          "output_type": "stream",
          "name": "stdout",
          "text": [
            "Epoch 1/20\n",
            "10/10 [==============================] - 15s 419ms/step - loss: 2.2288 - categorical_crossentropy: 2.2288 - categorical_accuracy: 0.4400 - val_loss: 1.0112 - val_categorical_crossentropy: 1.0112 - val_categorical_accuracy: 0.4903\n",
            "Epoch 2/20\n",
            "10/10 [==============================] - 1s 131ms/step - loss: 0.8650 - categorical_crossentropy: 0.8650 - categorical_accuracy: 0.6054 - val_loss: 0.7520 - val_categorical_crossentropy: 0.7520 - val_categorical_accuracy: 0.7161\n",
            "Epoch 3/20\n",
            "10/10 [==============================] - 1s 132ms/step - loss: 0.6373 - categorical_crossentropy: 0.6373 - categorical_accuracy: 0.7546 - val_loss: 0.6902 - val_categorical_crossentropy: 0.6902 - val_categorical_accuracy: 0.7419\n",
            "Epoch 4/20\n",
            "10/10 [==============================] - 1s 143ms/step - loss: 0.5464 - categorical_crossentropy: 0.5464 - categorical_accuracy: 0.7903 - val_loss: 0.5629 - val_categorical_crossentropy: 0.5629 - val_categorical_accuracy: 0.7677\n",
            "Epoch 5/20\n",
            "10/10 [==============================] - 1s 144ms/step - loss: 0.4318 - categorical_crossentropy: 0.4318 - categorical_accuracy: 0.8422 - val_loss: 0.4571 - val_categorical_crossentropy: 0.4571 - val_categorical_accuracy: 0.8323\n",
            "Epoch 6/20\n",
            "10/10 [==============================] - 1s 144ms/step - loss: 0.3345 - categorical_crossentropy: 0.3345 - categorical_accuracy: 0.8735 - val_loss: 0.5682 - val_categorical_crossentropy: 0.5682 - val_categorical_accuracy: 0.7645\n",
            "Epoch 7/20\n",
            "10/10 [==============================] - 2s 159ms/step - loss: 0.4114 - categorical_crossentropy: 0.4114 - categorical_accuracy: 0.8346 - val_loss: 0.4618 - val_categorical_crossentropy: 0.4618 - val_categorical_accuracy: 0.8258\n",
            "Epoch 8/20\n",
            "10/10 [==============================] - 2s 169ms/step - loss: 0.2981 - categorical_crossentropy: 0.2981 - categorical_accuracy: 0.8876 - val_loss: 0.4645 - val_categorical_crossentropy: 0.4645 - val_categorical_accuracy: 0.8290\n",
            "Epoch 9/20\n",
            "10/10 [==============================] - 2s 155ms/step - loss: 0.2884 - categorical_crossentropy: 0.2884 - categorical_accuracy: 0.8919 - val_loss: 0.3835 - val_categorical_crossentropy: 0.3835 - val_categorical_accuracy: 0.8516\n",
            "Epoch 10/20\n",
            "10/10 [==============================] - 1s 131ms/step - loss: 0.1744 - categorical_crossentropy: 0.1744 - categorical_accuracy: 0.9362 - val_loss: 0.2752 - val_categorical_crossentropy: 0.2752 - val_categorical_accuracy: 0.9032\n",
            "Epoch 11/20\n",
            "10/10 [==============================] - 1s 144ms/step - loss: 0.1248 - categorical_crossentropy: 0.1248 - categorical_accuracy: 0.9589 - val_loss: 0.2576 - val_categorical_crossentropy: 0.2576 - val_categorical_accuracy: 0.9000\n",
            "Epoch 12/20\n",
            "10/10 [==============================] - 1s 136ms/step - loss: 0.0742 - categorical_crossentropy: 0.0742 - categorical_accuracy: 0.9805 - val_loss: 0.2491 - val_categorical_crossentropy: 0.2491 - val_categorical_accuracy: 0.9032\n",
            "Epoch 13/20\n",
            "10/10 [==============================] - 1s 145ms/step - loss: 0.0359 - categorical_crossentropy: 0.0359 - categorical_accuracy: 0.9892 - val_loss: 0.2330 - val_categorical_crossentropy: 0.2330 - val_categorical_accuracy: 0.9129\n",
            "Epoch 14/20\n",
            "10/10 [==============================] - 1s 135ms/step - loss: 0.0162 - categorical_crossentropy: 0.0162 - categorical_accuracy: 0.9968 - val_loss: 0.2185 - val_categorical_crossentropy: 0.2185 - val_categorical_accuracy: 0.9226\n",
            "Epoch 15/20\n",
            "10/10 [==============================] - 1s 143ms/step - loss: 0.0065 - categorical_crossentropy: 0.0065 - categorical_accuracy: 1.0000 - val_loss: 0.2214 - val_categorical_crossentropy: 0.2214 - val_categorical_accuracy: 0.9323\n",
            "Epoch 16/20\n",
            "10/10 [==============================] - 1s 132ms/step - loss: 0.0028 - categorical_crossentropy: 0.0028 - categorical_accuracy: 1.0000 - val_loss: 0.2582 - val_categorical_crossentropy: 0.2582 - val_categorical_accuracy: 0.9194\n",
            "Epoch 17/20\n",
            "10/10 [==============================] - 2s 164ms/step - loss: 0.0016 - categorical_crossentropy: 0.0016 - categorical_accuracy: 1.0000 - val_loss: 0.2553 - val_categorical_crossentropy: 0.2553 - val_categorical_accuracy: 0.9194\n",
            "Epoch 18/20\n",
            "10/10 [==============================] - 2s 165ms/step - loss: 0.0011 - categorical_crossentropy: 0.0011 - categorical_accuracy: 1.0000 - val_loss: 0.2682 - val_categorical_crossentropy: 0.2682 - val_categorical_accuracy: 0.9194\n",
            "Epoch 19/20\n",
            "10/10 [==============================] - 2s 165ms/step - loss: 8.5709e-04 - categorical_crossentropy: 8.5709e-04 - categorical_accuracy: 1.0000 - val_loss: 0.2949 - val_categorical_crossentropy: 0.2949 - val_categorical_accuracy: 0.9161\n",
            "Epoch 20/20\n",
            "10/10 [==============================] - 1s 137ms/step - loss: 6.0565e-04 - categorical_crossentropy: 6.0565e-04 - categorical_accuracy: 1.0000 - val_loss: 0.2715 - val_categorical_crossentropy: 0.2715 - val_categorical_accuracy: 0.9194\n"
          ]
        }
      ]
    },
    {
      "cell_type": "code",
      "source": [
        "trained_model_dict = trained_model.history\n",
        "trained_model_dict.keys()"
      ],
      "metadata": {
        "colab": {
          "base_uri": "https://localhost:8080/"
        },
        "id": "2bsQT3hLAE2g",
        "outputId": "4e220699-53dd-40d7-ed41-786654b8c658"
      },
      "execution_count": null,
      "outputs": [
        {
          "output_type": "execute_result",
          "data": {
            "text/plain": [
              "dict_keys(['loss', 'categorical_crossentropy', 'categorical_accuracy', 'val_loss', 'val_categorical_crossentropy', 'val_categorical_accuracy'])"
            ]
          },
          "metadata": {},
          "execution_count": 17
        }
      ]
    },
    {
      "cell_type": "code",
      "source": [
        "import matplotlib.pyplot as plt\n",
        "\n",
        "loss_value = trained_model_dict['categorical_crossentropy']\n",
        "val_loss_value = trained_model_dict['val_categorical_crossentropy']\n",
        "\n",
        "epochs = range(1,len(loss_value)+1)\n",
        "\n",
        "plt.plot(epochs, loss_value, 'bo', label='Training Loss')\n",
        "plt.plot(epochs, val_loss_value, 'b', label= 'Validation Loss')\n",
        "plt.title('Training and Validation Loss')\n",
        "plt.xlabel('Epochs')\n",
        "plt.ylabel('Loss')\n",
        "plt.legend()\n",
        "\n",
        "plt.show()"
      ],
      "metadata": {
        "id": "RJeUG_S5r1cy",
        "colab": {
          "base_uri": "https://localhost:8080/",
          "height": 472
        },
        "outputId": "4f1c3770-810e-4128-e7a8-6b411f2f68f7"
      },
      "execution_count": null,
      "outputs": [
        {
          "output_type": "display_data",
          "data": {
            "text/plain": [
              "<Figure size 640x480 with 1 Axes>"
            ],
            "image/png": "[encoded data removed]"
          },
          "metadata": {}
        }
      ]
    },
    {
      "cell_type": "code",
      "source": [
        "acc_values = trained_model_dict['categorical_accuracy']\n",
        "val_acc_values = trained_model_dict['val_categorical_accuracy']\n",
        "\n",
        "\n",
        "plt.plot(epochs, acc_values, 'bo', label='Training Accuracy')\n",
        "plt.plot(epochs, val_acc_values, 'b', label= 'Validation Accuracy')\n",
        "plt.title('Training and Validation Accuracy')\n",
        "plt.xlabel('Epochs')\n",
        "plt.ylabel('Accuracy')\n",
        "plt.legend()\n",
        "\n",
        "plt.show()"
      ],
      "metadata": {
        "colab": {
          "base_uri": "https://localhost:8080/",
          "height": 472
        },
        "id": "ksbtDP3sASLR",
        "outputId": "ff394535-abb8-44d3-e6a0-1b2f8244a996"
      },
      "execution_count": null,
      "outputs": [
        {
          "output_type": "display_data",
          "data": {
            "text/plain": [
              "<Figure size 640x480 with 1 Axes>"
            ],
            "image/png": "[encoded data removed]"
          },
          "metadata": {}
        }
      ]
    },
    {
      "cell_type": "code",
      "source": [
        "results = model.evaluate(X_test, y_test)\n",
        "print(f\"Accuracy of the model : {results[-1]}\")"
      ],
      "metadata": {
        "id": "sdR9GKwCKMFA",
        "colab": {
          "base_uri": "https://localhost:8080/"
        },
        "outputId": "db6637e8-8f17-4ff7-8ece-be0a5ab6f931"
      },
      "execution_count": null,
      "outputs": [
        {
          "output_type": "stream",
          "name": "stdout",
          "text": [
            "10/10 [==============================] - 2s 77ms/step - loss: 0.3125 - categorical_crossentropy: 0.3125 - categorical_accuracy: 0.9191\n",
            "Accuracy of the model : 0.9190938472747803\n"
          ]
        }
      ]
    },
    {
      "cell_type": "code",
      "source": [],
      "metadata": {
        "id": "r4OC0WjKgyZt"
      },
      "execution_count": null,
      "outputs": []
    }
  ],
  "metadata": {
    "kernelspec": {
      "display_name": "Python 3",
      "name": "python3"
    },
    "language_info": {
      "codemirror_mode": {
        "name": "ipython",
        "version": 3
      },
      "file_extension": ".py",
      "mimetype": "text/x-python",
      "name": "python",
      "nbconvert_exporter": "python",
      "pygments_lexer": "ipython3",
      "version": "3.10.12"
    },
    "colab": {
      "provenance": [],
      "gpuType": "T4"
    },
    "accelerator": "GPU"
  },
  "nbformat": 4,
  "nbformat_minor": 0
}